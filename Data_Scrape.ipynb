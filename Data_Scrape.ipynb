{
 "cells": [
  {
   "cell_type": "code",
   "execution_count": 1,
   "metadata": {},
   "outputs": [],
   "source": [
    "from bs4 import BeautifulSoup as bs\n",
    "from splinter import Browser\n",
    "import pandas as pd\n",
    "import os\n",
    "import time\n",
    "import requests\n",
    "import warnings\n",
    "warnings.filterwarnings('ignore')"
   ]
  },
  {
   "cell_type": "markdown",
   "metadata": {},
   "source": [
    "## National League"
   ]
  },
  {
   "cell_type": "code",
   "execution_count": null,
   "metadata": {},
   "outputs": [],
   "source": [
    "x = 2019\n",
    "url = \"https://www.baseball-almanac.com/yearly/yr\"\n",
    "end_url = \"n.shtml\"\n",
    "full_url = f'{url}{x}{end_url}'\n",
    "nl_team = pd.read_html(full_url, skiprows=0)[2]\n",
    "nl_team.to_csv(\"nl_data2019.csv\")"
   ]
  },
  {
   "cell_type": "code",
   "execution_count": null,
   "metadata": {},
   "outputs": [],
   "source": [
    "x = 2018\n",
    "url = \"https://www.baseball-almanac.com/yearly/yr\"\n",
    "end_url = \"n.shtml\"\n",
    "full_url = f'{url}{x}{end_url}'\n",
    "nl_team = pd.read_html(full_url, skiprows=0)[2]\n",
    "nl_team.to_csv(\"nl_data2018.csv\")"
   ]
  },
  {
   "cell_type": "code",
   "execution_count": null,
   "metadata": {},
   "outputs": [],
   "source": [
    "x = 2017\n",
    "url = \"https://www.baseball-almanac.com/yearly/yr\"\n",
    "end_url = \"n.shtml\"\n",
    "full_url = f'{url}{x}{end_url}'\n",
    "nl_team = pd.read_html(full_url, skiprows=0)[2]\n",
    "nl_team.to_csv(\"nl_data2017.csv\")"
   ]
  },
  {
   "cell_type": "code",
   "execution_count": null,
   "metadata": {},
   "outputs": [],
   "source": [
    "x = 2016\n",
    "url = \"https://www.baseball-almanac.com/yearly/yr\"\n",
    "end_url = \"n.shtml\"\n",
    "full_url = f'{url}{x}{end_url}'\n",
    "nl_team = pd.read_html(full_url, skiprows=0)[2]\n",
    "nl_team.to_csv(\"nl_data2016.csv\")"
   ]
  },
  {
   "cell_type": "code",
   "execution_count": null,
   "metadata": {},
   "outputs": [],
   "source": [
    "x = 2015\n",
    "url = \"https://www.baseball-almanac.com/yearly/yr\"\n",
    "end_url = \"n.shtml\"\n",
    "full_url = f'{url}{x}{end_url}'\n",
    "nl_team = pd.read_html(full_url, skiprows=0)[2]\n",
    "nl_team.to_csv(\"nl_data2015.csv\")"
   ]
  },
  {
   "cell_type": "code",
   "execution_count": null,
   "metadata": {},
   "outputs": [],
   "source": [
    "x = 2014\n",
    "url = \"https://www.baseball-almanac.com/yearly/yr\"\n",
    "end_url = \"n.shtml\"\n",
    "full_url = f'{url}{x}{end_url}'\n",
    "nl_team = pd.read_html(full_url, skiprows=0)[2]\n",
    "nl_team.to_csv(\"nl_data2014.csv\")"
   ]
  },
  {
   "cell_type": "code",
   "execution_count": null,
   "metadata": {},
   "outputs": [],
   "source": [
    "x = 2013\n",
    "url = \"https://www.baseball-almanac.com/yearly/yr\"\n",
    "end_url = \"n.shtml\"\n",
    "full_url = f'{url}{x}{end_url}'\n",
    "nl_team = pd.read_html(full_url, skiprows=0)[2]\n",
    "nl_team.to_csv(\"nl_data2013.csv\")"
   ]
  },
  {
   "cell_type": "code",
   "execution_count": null,
   "metadata": {},
   "outputs": [],
   "source": [
    "x = 2012\n",
    "url = \"https://www.baseball-almanac.com/yearly/yr\"\n",
    "end_url = \"n.shtml\"\n",
    "full_url = f'{url}{x}{end_url}'\n",
    "nl_team = pd.read_html(full_url, skiprows=0)[2]\n",
    "nl_team.to_csv(\"nl_data2012.csv\")"
   ]
  },
  {
   "cell_type": "code",
   "execution_count": null,
   "metadata": {},
   "outputs": [],
   "source": [
    "x = 2011\n",
    "url = \"https://www.baseball-almanac.com/yearly/yr\"\n",
    "end_url = \"n.shtml\"\n",
    "full_url = f'{url}{x}{end_url}'\n",
    "nl_team = pd.read_html(full_url, skiprows=0)[2]\n",
    "nl_team.to_csv(\"nl_data2011.csv\")"
   ]
  },
  {
   "cell_type": "code",
   "execution_count": null,
   "metadata": {},
   "outputs": [],
   "source": [
    "x = 2010\n",
    "url = \"https://www.baseball-almanac.com/yearly/yr\"\n",
    "end_url = \"n.shtml\"\n",
    "full_url = f'{url}{x}{end_url}'\n",
    "nl_team = pd.read_html(full_url, skiprows=0)[2]\n",
    "nl_team.to_csv(\"nl_data2010.csv\")"
   ]
  },
  {
   "cell_type": "code",
   "execution_count": null,
   "metadata": {},
   "outputs": [],
   "source": [
    "x = 2009\n",
    "url = \"https://www.baseball-almanac.com/yearly/yr\"\n",
    "end_url = \"n.shtml\"\n",
    "full_url = f'{url}{x}{end_url}'\n",
    "nl_team = pd.read_html(full_url, skiprows=0)[2]\n",
    "nl_team.to_csv(\"nl_data2009.csv\")"
   ]
  },
  {
   "cell_type": "code",
   "execution_count": null,
   "metadata": {},
   "outputs": [],
   "source": [
    "x = 2008\n",
    "url = \"https://www.baseball-almanac.com/yearly/yr\"\n",
    "end_url = \"n.shtml\"\n",
    "full_url = f'{url}{x}{end_url}'\n",
    "nl_team = pd.read_html(full_url, skiprows=0)[2]\n",
    "nl_team.to_csv(\"nl_data2008.csv\")"
   ]
  },
  {
   "cell_type": "code",
   "execution_count": null,
   "metadata": {},
   "outputs": [],
   "source": [
    "x = 2007\n",
    "url = \"https://www.baseball-almanac.com/yearly/yr\"\n",
    "end_url = \"n.shtml\"\n",
    "full_url = f'{url}{x}{end_url}'\n",
    "nl_team = pd.read_html(full_url, skiprows=0)[2]\n",
    "nl_team.to_csv(\"nl_data2007.csv\")"
   ]
  },
  {
   "cell_type": "code",
   "execution_count": null,
   "metadata": {},
   "outputs": [],
   "source": [
    "x = 2006\n",
    "url = \"https://www.baseball-almanac.com/yearly/yr\"\n",
    "end_url = \"n.shtml\"\n",
    "full_url = f'{url}{x}{end_url}'\n",
    "nl_team = pd.read_html(full_url, skiprows=0)[2]\n",
    "nl_team.to_csv(\"nl_data2006.csv\")"
   ]
  },
  {
   "cell_type": "code",
   "execution_count": null,
   "metadata": {},
   "outputs": [],
   "source": [
    "x = 2005\n",
    "url = \"https://www.baseball-almanac.com/yearly/yr\"\n",
    "end_url = \"n.shtml\"\n",
    "full_url = f'{url}{x}{end_url}'\n",
    "nl_team = pd.read_html(full_url, skiprows=0)[2]\n",
    "nl_team.to_csv(\"nl_data2005.csv\")"
   ]
  },
  {
   "cell_type": "code",
   "execution_count": null,
   "metadata": {},
   "outputs": [],
   "source": [
    "x = 2004\n",
    "url = \"https://www.baseball-almanac.com/yearly/yr\"\n",
    "end_url = \"n.shtml\"\n",
    "full_url = f'{url}{x}{end_url}'\n",
    "nl_team = pd.read_html(full_url, skiprows=0)[2]\n",
    "nl_team.to_csv(\"nl_data2004.csv\")"
   ]
  },
  {
   "cell_type": "code",
   "execution_count": null,
   "metadata": {},
   "outputs": [],
   "source": [
    "x = 2003\n",
    "url = \"https://www.baseball-almanac.com/yearly/yr\"\n",
    "end_url = \"n.shtml\"\n",
    "full_url = f'{url}{x}{end_url}'\n",
    "nl_team = pd.read_html(full_url, skiprows=0)[2]\n",
    "nl_team.to_csv(\"nl_data2003.csv\")"
   ]
  },
  {
   "cell_type": "code",
   "execution_count": null,
   "metadata": {},
   "outputs": [],
   "source": [
    "x = 2002\n",
    "url = \"https://www.baseball-almanac.com/yearly/yr\"\n",
    "end_url = \"n.shtml\"\n",
    "full_url = f'{url}{x}{end_url}'\n",
    "nl_team = pd.read_html(full_url, skiprows=0)[2]\n",
    "nl_team.to_csv(\"nl_data2002.csv\")"
   ]
  },
  {
   "cell_type": "code",
   "execution_count": null,
   "metadata": {},
   "outputs": [],
   "source": [
    "x = 2001\n",
    "url = \"https://www.baseball-almanac.com/yearly/yr\"\n",
    "end_url = \"n.shtml\"\n",
    "full_url = f'{url}{x}{end_url}'\n",
    "nl_team = pd.read_html(full_url, skiprows=0)[2]\n",
    "nl_team.to_csv(\"nl_data2001.csv\")"
   ]
  },
  {
   "cell_type": "code",
   "execution_count": null,
   "metadata": {},
   "outputs": [],
   "source": [
    "x = 2000\n",
    "url = \"https://www.baseball-almanac.com/yearly/yr\"\n",
    "end_url = \"n.shtml\"\n",
    "full_url = f'{url}{x}{end_url}'\n",
    "nl_team = pd.read_html(full_url, skiprows=0)[2]\n",
    "nl_team.to_csv(\"nl_data2000.csv\")"
   ]
  },
  {
   "cell_type": "code",
   "execution_count": null,
   "metadata": {},
   "outputs": [],
   "source": [
    "x = 1999\n",
    "url = \"https://www.baseball-almanac.com/yearly/yr\"\n",
    "end_url = \"n.shtml\"\n",
    "full_url = f'{url}{x}{end_url}'\n",
    "nl_team = pd.read_html(full_url, skiprows=0)[2]\n",
    "nl_team.to_csv(\"nl_data1999.csv\")"
   ]
  },
  {
   "cell_type": "markdown",
   "metadata": {},
   "source": [
    "## American League"
   ]
  },
  {
   "cell_type": "code",
   "execution_count": 4,
   "metadata": {},
   "outputs": [],
   "source": [
    "x = 2019\n",
    "url = \"https://www.baseball-almanac.com/yearly/yr\"\n",
    "end_url = \"a.shtml\"\n",
    "full_url = f'{url}{x}{end_url}'\n",
    "al_team = pd.read_html(full_url, skiprows=0)[2]\n",
    "al_team.to_csv(\"al_data2019.csv\")"
   ]
  },
  {
   "cell_type": "code",
   "execution_count": 6,
   "metadata": {},
   "outputs": [],
   "source": [
    "x = 2018\n",
    "url = \"https://www.baseball-almanac.com/yearly/yr\"\n",
    "end_url = \"a.shtml\"\n",
    "full_url = f'{url}{x}{end_url}'\n",
    "al_team = pd.read_html(full_url, skiprows=0)[2]\n",
    "al_team.to_csv(\"al_data2018.csv\")"
   ]
  },
  {
   "cell_type": "code",
   "execution_count": null,
   "metadata": {},
   "outputs": [],
   "source": [
    "x = 2017\n",
    "url = \"https://www.baseball-almanac.com/yearly/yr\"\n",
    "end_url = \"a.shtml\"\n",
    "full_url = f'{url}{x}{end_url}'\n",
    "al_team = pd.read_html(full_url, skiprows=0)[2]\n",
    "al_team.to_csv(\"al_data2017.csv\")"
   ]
  },
  {
   "cell_type": "code",
   "execution_count": null,
   "metadata": {},
   "outputs": [],
   "source": [
    "x = 2016\n",
    "url = \"https://www.baseball-almanac.com/yearly/yr\"\n",
    "end_url = \"a.shtml\"\n",
    "full_url = f'{url}{x}{end_url}'\n",
    "al_team = pd.read_html(full_url, skiprows=0)[2]\n",
    "al_team.to_csv(\"al_data2016.csv\")"
   ]
  },
  {
   "cell_type": "code",
   "execution_count": null,
   "metadata": {},
   "outputs": [],
   "source": [
    "x = 2015\n",
    "url = \"https://www.baseball-almanac.com/yearly/yr\"\n",
    "end_url = \"a.shtml\"\n",
    "full_url = f'{url}{x}{end_url}'\n",
    "al_team = pd.read_html(full_url, skiprows=0)[2]\n",
    "al_team.to_csv(\"al_data2015.csv\")"
   ]
  },
  {
   "cell_type": "code",
   "execution_count": null,
   "metadata": {},
   "outputs": [],
   "source": [
    "x = 2014\n",
    "url = \"https://www.baseball-almanac.com/yearly/yr\"\n",
    "end_url = \"a.shtml\"\n",
    "full_url = f'{url}{x}{end_url}'\n",
    "al_team = pd.read_html(full_url, skiprows=0)[2]\n",
    "al_team.to_csv(\"al_data2014.csv\")"
   ]
  },
  {
   "cell_type": "code",
   "execution_count": null,
   "metadata": {},
   "outputs": [],
   "source": [
    "x = 2013\n",
    "url = \"https://www.baseball-almanac.com/yearly/yr\"\n",
    "end_url = \"a.shtml\"\n",
    "full_url = f'{url}{x}{end_url}'\n",
    "al_team = pd.read_html(full_url, skiprows=0)[2]\n",
    "al_team.to_csv(\"al_data2013.csv\")"
   ]
  },
  {
   "cell_type": "code",
   "execution_count": null,
   "metadata": {},
   "outputs": [],
   "source": [
    "x = 2012\n",
    "url = \"https://www.baseball-almanac.com/yearly/yr\"\n",
    "end_url = \"a.shtml\"\n",
    "full_url = f'{url}{x}{end_url}'\n",
    "al_team = pd.read_html(full_url, skiprows=0)[2]\n",
    "al_team.to_csv(\"al_data2012.csv\")"
   ]
  },
  {
   "cell_type": "code",
   "execution_count": null,
   "metadata": {},
   "outputs": [],
   "source": [
    "x = 2011\n",
    "url = \"https://www.baseball-almanac.com/yearly/yr\"\n",
    "end_url = \"a.shtml\"\n",
    "full_url = f'{url}{x}{end_url}'\n",
    "al_team = pd.read_html(full_url, skiprows=0)[2]\n",
    "al_team.to_csv(\"al_data2011.csv\")"
   ]
  },
  {
   "cell_type": "code",
   "execution_count": null,
   "metadata": {},
   "outputs": [],
   "source": [
    "x = 2010\n",
    "url = \"https://www.baseball-almanac.com/yearly/yr\"\n",
    "end_url = \"a.shtml\"\n",
    "full_url = f'{url}{x}{end_url}'\n",
    "al_team = pd.read_html(full_url, skiprows=0)[2]\n",
    "al_team.to_csv(\"al_data2010.csv\")"
   ]
  },
  {
   "cell_type": "code",
   "execution_count": null,
   "metadata": {},
   "outputs": [],
   "source": [
    "x = 2009\n",
    "url = \"https://www.baseball-almanac.com/yearly/yr\"\n",
    "end_url = \"a.shtml\"\n",
    "full_url = f'{url}{x}{end_url}'\n",
    "al_team = pd.read_html(full_url, skiprows=0)[2]\n",
    "al_team.to_csv(\"al_data2009.csv\")"
   ]
  },
  {
   "cell_type": "code",
   "execution_count": null,
   "metadata": {},
   "outputs": [],
   "source": [
    "x = 2008\n",
    "url = \"https://www.baseball-almanac.com/yearly/yr\"\n",
    "end_url = \"a.shtml\"\n",
    "full_url = f'{url}{x}{end_url}'\n",
    "al_team = pd.read_html(full_url, skiprows=0)[2]\n",
    "al_team.to_csv(\"al_data2008.csv\")"
   ]
  },
  {
   "cell_type": "code",
   "execution_count": null,
   "metadata": {},
   "outputs": [],
   "source": [
    "x = 2007\n",
    "url = \"https://www.baseball-almanac.com/yearly/yr\"\n",
    "end_url = \"a.shtml\"\n",
    "full_url = f'{url}{x}{end_url}'\n",
    "al_team = pd.read_html(full_url, skiprows=0)[2]\n",
    "al_team.to_csv(\"al_data2007.csv\")"
   ]
  },
  {
   "cell_type": "code",
   "execution_count": null,
   "metadata": {},
   "outputs": [],
   "source": [
    "x = 2006\n",
    "url = \"https://www.baseball-almanac.com/yearly/yr\"\n",
    "end_url = \"a.shtml\"\n",
    "full_url = f'{url}{x}{end_url}'\n",
    "al_team = pd.read_html(full_url, skiprows=0)[2]\n",
    "al_team.to_csv(\"al_data2006.csv\")"
   ]
  },
  {
   "cell_type": "code",
   "execution_count": null,
   "metadata": {},
   "outputs": [],
   "source": [
    "x = 2005\n",
    "url = \"https://www.baseball-almanac.com/yearly/yr\"\n",
    "end_url = \"a.shtml\"\n",
    "full_url = f'{url}{x}{end_url}'\n",
    "al_team = pd.read_html(full_url, skiprows=0)[2]\n",
    "al_team.to_csv(\"al_data2005.csv\")"
   ]
  },
  {
   "cell_type": "code",
   "execution_count": null,
   "metadata": {},
   "outputs": [],
   "source": [
    "x = 2004\n",
    "url = \"https://www.baseball-almanac.com/yearly/yr\"\n",
    "end_url = \"a.shtml\"\n",
    "full_url = f'{url}{x}{end_url}'\n",
    "al_team = pd.read_html(full_url, skiprows=0)[2]\n",
    "al_team.to_csv(\"al_data2004.csv\")"
   ]
  },
  {
   "cell_type": "code",
   "execution_count": null,
   "metadata": {},
   "outputs": [],
   "source": [
    "x = 2019\n",
    "url = \"https://www.baseball-almanac.com/yearly/yr\"\n",
    "end_url = \"a.shtml\"\n",
    "full_url = f'{url}{x}{end_url}'\n",
    "al_team = pd.read_html(full_url, skiprows=0)[2]\n",
    "al_team.to_csv(\"al_data2019.csv\")"
   ]
  },
  {
   "cell_type": "code",
   "execution_count": null,
   "metadata": {},
   "outputs": [],
   "source": [
    "x = 2003\n",
    "url = \"https://www.baseball-almanac.com/yearly/yr\"\n",
    "end_url = \"a.shtml\"\n",
    "full_url = f'{url}{x}{end_url}'\n",
    "al_team = pd.read_html(full_url, skiprows=0)[2]\n",
    "al_team.to_csv(\"al_data2003.csv\")"
   ]
  },
  {
   "cell_type": "code",
   "execution_count": null,
   "metadata": {},
   "outputs": [],
   "source": [
    "x = 2003\n",
    "url = \"https://www.baseball-almanac.com/yearly/yr\"\n",
    "end_url = \"a.shtml\"\n",
    "full_url = f'{url}{x}{end_url}'\n",
    "al_team = pd.read_html(full_url, skiprows=0)[2]\n",
    "al_team.to_csv(\"al_data2003.csv\")"
   ]
  },
  {
   "cell_type": "code",
   "execution_count": null,
   "metadata": {},
   "outputs": [],
   "source": [
    "x = 2002\n",
    "url = \"https://www.baseball-almanac.com/yearly/yr\"\n",
    "end_url = \"a.shtml\"\n",
    "full_url = f'{url}{x}{end_url}'\n",
    "al_team = pd.read_html(full_url, skiprows=0)[2]\n",
    "al_team.to_csv(\"al_data2002.csv\")"
   ]
  },
  {
   "cell_type": "code",
   "execution_count": null,
   "metadata": {},
   "outputs": [],
   "source": [
    "x = 2001\n",
    "url = \"https://www.baseball-almanac.com/yearly/yr\"\n",
    "end_url = \"a.shtml\"\n",
    "full_url = f'{url}{x}{end_url}'\n",
    "al_team = pd.read_html(full_url, skiprows=0)[2]\n",
    "al_team.to_csv(\"al_data2001.csv\")"
   ]
  },
  {
   "cell_type": "code",
   "execution_count": null,
   "metadata": {},
   "outputs": [],
   "source": [
    "x = 2000\n",
    "url = \"https://www.baseball-almanac.com/yearly/yr\"\n",
    "end_url = \"a.shtml\"\n",
    "full_url = f'{url}{x}{end_url}'\n",
    "al_team = pd.read_html(full_url, skiprows=0)[2]\n",
    "al_team.to_csv(\"al_data2000.csv\")"
   ]
  },
  {
   "cell_type": "code",
   "execution_count": null,
   "metadata": {},
   "outputs": [],
   "source": [
    "x = 1999\n",
    "url = \"https://www.baseball-almanac.com/yearly/yr\"\n",
    "end_url = \"a.shtml\"\n",
    "full_url = f'{url}{x}{end_url}'\n",
    "al_team = pd.read_html(full_url, skiprows=0)[2]\n",
    "al_team.to_csv(\"al_data1999.csv\")"
   ]
  }
 ],
 "metadata": {
  "kernelspec": {
   "display_name": "Python 3.7.6 64-bit ('PythonData': conda)",
   "language": "python",
   "name": "python37664bitpythondataconda2b8880efb6d34b3eb0c55c8cee5b9b98"
  },
  "language_info": {
   "codemirror_mode": {
    "name": "ipython",
    "version": 3
   },
   "file_extension": ".py",
   "mimetype": "text/x-python",
   "name": "python",
   "nbconvert_exporter": "python",
   "pygments_lexer": "ipython3",
   "version": "3.7.6"
  }
 },
 "nbformat": 4,
 "nbformat_minor": 4
}
